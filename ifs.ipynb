{
 "cells": [
  {
   "cell_type": "code",
   "execution_count": 10,
   "metadata": {},
   "outputs": [
    {
     "name": "stdout",
     "output_type": "stream",
     "text": [
      "Requirement already satisfied: psycopg2-binary in /Library/Frameworks/Python.framework/Versions/3.12/lib/python3.12/site-packages (2.9.9)\n"
     ]
    }
   ],
   "source": [
    "!pip install psycopg2-binary"
   ]
  },
  {
   "cell_type": "code",
   "execution_count": 1,
   "metadata": {},
   "outputs": [],
   "source": [
    "import psycopg2\n",
    "import json\n",
    "\n",
    "database_host = 'localhost'\n",
    "database_name = 'postgres'\n",
    "conn_database = psycopg2.connect(\"dbname=postgres\")\n",
    "\n",
    "class DatetimeEncoder(json.JSONEncoder):\n",
    "    def default(self, obj):\n",
    "        try:\n",
    "            return super().default(obj)\n",
    "        except TypeError:\n",
    "            return str(obj)\n",
    "        \n",
    "\n",
    "def run_database(sql_query):\n",
    "    cursor = conn_database.cursor()\n",
    "    cursor.execute(sql_query)\n",
    "    result = json.loads(json.dumps(cursor.fetchall(), cls=DatetimeEncoder))\n",
    "    cursor.close()\n",
    "    return result or []"
   ]
  },
  {
   "cell_type": "markdown",
   "metadata": {},
   "source": []
  },
  {
   "cell_type": "code",
   "execution_count": 2,
   "metadata": {},
   "outputs": [
    {
     "name": "stdout",
     "output_type": "stream",
     "text": [
      "ddd [['Barbados', 316, 'Exchange Rates, Domestic Currency per Euro, End of Period, Rate', 'ENEE_XDC_EUR_RATE', '2004Q2', '2.431', '', '930b31b1-4bcd-47ae-8f8f-5de9412f095c'], ['Barbados', 316, 'Exchange Rates, Domestic Currency per Euro, End of Period, Rate', 'ENEE_XDC_EUR_RATE', '2006Q3', '2.532', '', '6c3e6d42-8da0-4d08-b7cd-50c1eae2789f']]\n"
     ]
    }
   ],
   "source": [
    "## test\n",
    "d = run_database('select * from ifs limit 2')\n",
    "print('ddd', d)"
   ]
  },
  {
   "cell_type": "markdown",
   "metadata": {},
   "source": [
    "The first actionable step in applying game theory to your economic dataset involves defining the players (countries) and selecting specific economic indicators as the elements of the game. Here's a more detailed breakdown of the first step:\n",
    "\n",
    "# Actionable Step 1: Define Players and Select Game Elements\n",
    "\n",
    "### 1. Define Players (Countries):\n",
    "\n",
    "Identify and list all the countries present in your dataset. These countries will be the players in your game. Ensure that the dataset is comprehensive and includes all relevant countries.\n",
    "\n",
    "### 2. Select Game Elements (Economic Indicators):\n",
    "\n",
    "Choose specific economic indicators or a combination of indicators that will be the focus of the game. This could include:\n",
    " - Domestic Currency\n",
    " - Monetary\n",
    " - US Dollars\n",
    " - Fund Accounts\n",
    " - SDRs\n",
    " - Exchange Rates\n",
    "\n",
    "\n",
    "### 3. Document Decision-Making Strategies:\n",
    "\n",
    "Outline the potential decision-making strategies that countries might adopt for each selected economic indicator. For example, strategies could include prioritizing GDP growth, maintaining a stable currency, reducing inflation, or optimizing trade balances.\n",
    "\n",
    "### 4. Consider Temporal Aspects:\n",
    "\n",
    "Take into account the time periods covered in your dataset. Decide whether your game model will focus on a specific time period or if it will be a dynamic model that considers changes over time.\n",
    "\n",
    "### 5. Map Players to Strategies:\n",
    "\n",
    "Create a preliminary mapping of each country to the decision-making strategies for the selected economic indicators. This mapping will form the basis for constructing payoff matrices in subsequent steps.\n",
    "By completing this step, you'll have a clearer understanding of the entities involved (countries) and the specific economic indicators that will be analyzed within the game-theoretic framework. This initial mapping sets the foundation for constructing the game model in the following steps."
   ]
  },
  {
   "cell_type": "code",
   "execution_count": 4,
   "metadata": {},
   "outputs": [
    {
     "name": "stdout",
     "output_type": "stream",
     "text": [
      "players [['Advanced Economies'], ['Afghanistan, Islamic Rep. of'], ['Albania'], ['Algeria'], ['Andorra, Principality of'], ['Angola'], ['Anguilla'], ['Antigua and Barbuda'], ['Argentina'], ['Armenia, Rep. of'], ['Aruba, Kingdom of the Netherlands'], ['Australia'], ['Austria'], ['Azerbaijan, Rep. of'], ['Bahamas, The'], ['Bahrain, Kingdom of'], ['Bangladesh'], ['Barbados'], ['Belarus, Rep. of'], ['Belgium'], ['Belize'], ['Benin'], ['Bermuda'], ['Bhutan'], ['Bolivia'], ['Bosnia and Herzegovina'], ['Botswana'], ['Brazil'], ['Brunei Darussalam'], ['Bulgaria'], ['Burkina Faso'], ['Burundi'], ['Cabo Verde'], ['Cambodia'], ['Cameroon'], ['Canada'], ['Central African Economic and Monetary Community'], ['Central African Rep.'], ['Chad'], ['Chile'], ['China, P.R.: Hong Kong'], ['China, P.R.: Macao'], ['China, P.R.: Mainland'], ['Colombia'], ['Comoros, Union of the'], ['Congo, Dem. Rep. of the'], ['Congo, Rep. of'], ['Costa Rica'], ['Croatia, Rep. of'], ['Cuba'], ['Curaçao and Sint Maarten'], ['Curaçao, Kingdom of the Netherlands'], ['Cyprus'], ['Czech Rep.'], ['Czechoslovakia'], [\"Côte d'Ivoire\"], ['Denmark'], ['Djibouti'], ['Dominica'], ['Dominican Rep.'], ['Eastern Caribbean Currency Union (ECCU)'], ['Ecuador'], ['Egypt, Arab Rep. of'], ['El Salvador'], ['Emerging and Developing Asia'], ['Emerging and Developing Countries'], ['Emerging and Developing Europe'], ['Equatorial Guinea, Rep. of'], ['Eritrea, The State of'], ['Estonia, Rep. of'], ['Eswatini, Kingdom of'], ['Ethiopia, The Federal Dem. Rep. of'], ['Euro Area'], ['Faroe Islands'], ['Fiji, Rep. of'], ['Finland'], ['France'], ['French Polynesia'], ['Gabon'], ['Gambia, The'], ['Georgia'], ['Germany'], ['Ghana'], ['Gibraltar'], ['Greece'], ['Greenland'], ['Grenada'], ['Guatemala'], ['Guernsey'], ['Guinea'], ['Guinea-Bissau'], ['Guyana'], ['Haiti'], ['Honduras'], ['Hungary'], ['Iceland'], ['India'], ['Indonesia'], ['Iran, Islamic Rep. of'], ['Iraq'], ['Ireland'], ['Isle of Man'], ['Israel'], ['Italy'], ['Jamaica'], ['Japan'], ['Jersey'], ['Jordan'], ['Kazakhstan, Rep. of'], ['Kenya'], ['Kiribati'], ['Korea, Rep. of'], ['Kosovo, Rep. of'], ['Kuwait'], ['Kyrgyz Rep.'], [\"Lao People's Dem. Rep.\"], ['Latvia'], ['Lebanon'], ['Lesotho, Kingdom of'], ['Liberia'], ['Libya'], ['Lithuania'], ['Luxembourg'], ['Madagascar, Rep. of'], ['Malawi'], ['Malaysia'], ['Maldives'], ['Mali'], ['Malta'], ['Marshall Islands, Rep. of the'], ['Mauritania, Islamic Rep. of'], ['Mauritius'], ['Mexico'], ['Micronesia, Federated States of'], ['Middle East and Central Asia'], ['Moldova, Rep. of'], ['Mongolia'], ['Montenegro'], ['Montserrat'], ['Morocco'], ['Mozambique, Rep. of'], ['Myanmar'], ['Namibia'], ['Nauru, Rep. of'], ['Nepal'], ['Netherlands Antilles'], ['Netherlands, The'], ['New Caledonia'], ['New Zealand'], ['Nicaragua'], ['Niger'], ['Nigeria'], ['North Macedonia, Republic of'], ['Norway'], ['Oman'], ['Pakistan'], ['Palau, Rep. of'], ['Panama'], ['Papua New Guinea'], ['Paraguay'], ['Peru'], ['Philippines'], ['Poland, Rep. of'], ['Portugal'], ['Qatar'], ['Reunion'], ['Romania'], ['Russian Federation'], ['Rwanda'], ['Samoa'], ['San Marino, Rep. of'], ['Saudi Arabia'], ['Senegal'], ['Serbia, Rep. of'], ['Seychelles'], ['Sierra Leone'], ['Singapore'], ['Sint Maarten, Kingdom of the Netherlands'], ['Slovak Rep.'], ['Slovenia, Rep. of'], ['Solomon Islands'], ['Somalia'], ['South Africa'], ['South Sudan, Rep. of'], ['Spain'], ['Sri Lanka'], ['St. Kitts and Nevis'], ['St. Lucia'], ['St. Vincent and the Grenadines'], ['Sub-Saharan Africa'], ['Sudan'], ['Suriname'], ['Sweden'], ['Switzerland'], ['Syrian Arab Rep.'], ['São Tomé and Príncipe, Dem. Rep. of'], ['Taiwan Province of China'], ['Tajikistan, Rep. of'], ['Tanzania, United Rep. of'], ['Thailand'], ['Timor-Leste, Dem. Rep. of'], ['Togo'], ['Tonga'], ['Trinidad and Tobago'], ['Tunisia'], ['Turkmenistan'], ['Turks and Caicos Islands'], ['Tuvalu'], ['Türkiye, Rep of'], ['Uganda'], ['Ukraine'], ['United Arab Emirates'], ['United Kingdom'], ['United States'], ['Uruguay'], ['Uzbekistan, Rep. of'], ['Vanuatu'], ['Venezuela, Rep. Bolivariana de'], ['Vietnam'], ['West African Economic and Monetary Union (WAEMU)'], ['West Bank and Gaza'], ['Western Hemisphere'], ['World'], ['Yemen Arab Rep.'], [\"Yemen, People's Dem. Rep. of\"], ['Yemen, Rep. of'], ['Yugoslavia'], ['Zambia'], ['Zimbabwe']]\n"
     ]
    }
   ],
   "source": [
    "# 1. Define Players (Countries)\n",
    "\n",
    "players = run_database('select distinct country_name from ifs')\n",
    "print('players', players)"
   ]
  },
  {
   "cell_type": "code",
   "execution_count": 5,
   "metadata": {},
   "outputs": [
    {
     "name": "stdout",
     "output_type": "stream",
     "text": [
      "229 ['Advanced Economies', 'Afghanistan, Islamic Rep. of', 'Albania', 'Algeria', 'Andorra, Principality of', 'Angola', 'Anguilla', 'Antigua and Barbuda', 'Argentina', 'Armenia, Rep. of', 'Aruba, Kingdom of the Netherlands', 'Australia', 'Austria', 'Azerbaijan, Rep. of', 'Bahamas, The', 'Bahrain, Kingdom of', 'Bangladesh', 'Barbados', 'Belarus, Rep. of', 'Belgium', 'Belize', 'Benin', 'Bermuda', 'Bhutan', 'Bolivia', 'Bosnia and Herzegovina', 'Botswana', 'Brazil', 'Brunei Darussalam', 'Bulgaria', 'Burkina Faso', 'Burundi', 'Cabo Verde', 'Cambodia', 'Cameroon', 'Canada', 'Central African Economic and Monetary Community', 'Central African Rep.', 'Chad', 'Chile', 'China, P.R.: Hong Kong', 'China, P.R.: Macao', 'China, P.R.: Mainland', 'Colombia', 'Comoros, Union of the', 'Congo, Dem. Rep. of the', 'Congo, Rep. of', 'Costa Rica', 'Croatia, Rep. of', 'Cuba', 'Curaçao and Sint Maarten', 'Curaçao, Kingdom of the Netherlands', 'Cyprus', 'Czech Rep.', 'Czechoslovakia', \"Côte d'Ivoire\", 'Denmark', 'Djibouti', 'Dominica', 'Dominican Rep.', 'Eastern Caribbean Currency Union (ECCU)', 'Ecuador', 'Egypt, Arab Rep. of', 'El Salvador', 'Emerging and Developing Asia', 'Emerging and Developing Countries', 'Emerging and Developing Europe', 'Equatorial Guinea, Rep. of', 'Eritrea, The State of', 'Estonia, Rep. of', 'Eswatini, Kingdom of', 'Ethiopia, The Federal Dem. Rep. of', 'Euro Area', 'Faroe Islands', 'Fiji, Rep. of', 'Finland', 'France', 'French Polynesia', 'Gabon', 'Gambia, The', 'Georgia', 'Germany', 'Ghana', 'Gibraltar', 'Greece', 'Greenland', 'Grenada', 'Guatemala', 'Guernsey', 'Guinea', 'Guinea-Bissau', 'Guyana', 'Haiti', 'Honduras', 'Hungary', 'Iceland', 'India', 'Indonesia', 'Iran, Islamic Rep. of', 'Iraq', 'Ireland', 'Isle of Man', 'Israel', 'Italy', 'Jamaica', 'Japan', 'Jersey', 'Jordan', 'Kazakhstan, Rep. of', 'Kenya', 'Kiribati', 'Korea, Rep. of', 'Kosovo, Rep. of', 'Kuwait', 'Kyrgyz Rep.', \"Lao People's Dem. Rep.\", 'Latvia', 'Lebanon', 'Lesotho, Kingdom of', 'Liberia', 'Libya', 'Lithuania', 'Luxembourg', 'Madagascar, Rep. of', 'Malawi', 'Malaysia', 'Maldives', 'Mali', 'Malta', 'Marshall Islands, Rep. of the', 'Mauritania, Islamic Rep. of', 'Mauritius', 'Mexico', 'Micronesia, Federated States of', 'Middle East and Central Asia', 'Moldova, Rep. of', 'Mongolia', 'Montenegro', 'Montserrat', 'Morocco', 'Mozambique, Rep. of', 'Myanmar', 'Namibia', 'Nauru, Rep. of', 'Nepal', 'Netherlands Antilles', 'Netherlands, The', 'New Caledonia', 'New Zealand', 'Nicaragua', 'Niger', 'Nigeria', 'North Macedonia, Republic of', 'Norway', 'Oman', 'Pakistan', 'Palau, Rep. of', 'Panama', 'Papua New Guinea', 'Paraguay', 'Peru', 'Philippines', 'Poland, Rep. of', 'Portugal', 'Qatar', 'Reunion', 'Romania', 'Russian Federation', 'Rwanda', 'Samoa', 'San Marino, Rep. of', 'Saudi Arabia', 'Senegal', 'Serbia, Rep. of', 'Seychelles', 'Sierra Leone', 'Singapore', 'Sint Maarten, Kingdom of the Netherlands', 'Slovak Rep.', 'Slovenia, Rep. of', 'Solomon Islands', 'Somalia', 'South Africa', 'South Sudan, Rep. of', 'Spain', 'Sri Lanka', 'St. Kitts and Nevis', 'St. Lucia', 'St. Vincent and the Grenadines', 'Sub-Saharan Africa', 'Sudan', 'Suriname', 'Sweden', 'Switzerland', 'Syrian Arab Rep.', 'São Tomé and Príncipe, Dem. Rep. of', 'Taiwan Province of China', 'Tajikistan, Rep. of', 'Tanzania, United Rep. of', 'Thailand', 'Timor-Leste, Dem. Rep. of', 'Togo', 'Tonga', 'Trinidad and Tobago', 'Tunisia', 'Turkmenistan', 'Turks and Caicos Islands', 'Tuvalu', 'Türkiye, Rep of', 'Uganda', 'Ukraine', 'United Arab Emirates', 'United Kingdom', 'United States', 'Uruguay', 'Uzbekistan, Rep. of', 'Vanuatu', 'Venezuela, Rep. Bolivariana de', 'Vietnam', 'West African Economic and Monetary Union (WAEMU)', 'West Bank and Gaza', 'Western Hemisphere', 'World', 'Yemen Arab Rep.', \"Yemen, People's Dem. Rep. of\", 'Yemen, Rep. of', 'Yugoslavia', 'Zambia', 'Zimbabwe']\n"
     ]
    }
   ],
   "source": [
    "# Flatten the list of countries\n",
    "countries = []\n",
    "for i in players:\n",
    "    countries.extend(i)\n",
    "\n",
    "print(len(countries), countries)\n"
   ]
  },
  {
   "cell_type": "markdown",
   "metadata": {},
   "source": [
    "##### 2. Select Game Elements (Economic Indicators):\n",
    "\n",
    "In PostgreSQL:\n",
    "\n",
    "INSERT INTO indicator  (indicator_name)\n",
    "SELECT UNNEST(STRING_TO_ARRAY(indicator_name, ', ')) AS indicator_name\n",
    "FROM ifs\n",
    "\n",
    "\n",
    "SELECT * FROM (SELECT COUNT(indicator_name) c, indicator_name FROM indicator GROUP BY indicator_name) t \n",
    "ORDER BY t.c DESC\n",
    "LIMIT 40\n",
    "\n",
    "Gives the top 40 indicators among countries and regions."
   ]
  },
  {
   "cell_type": "code",
   "execution_count": 6,
   "metadata": {},
   "outputs": [],
   "source": [
    "# 2. Select Game Elements (Economic Indicators): # out of 664 distinct indicators\n",
    "top_indicators = [\n",
    "    \"Domestic Currency\",\n",
    "    \"Domestic Currency per ECU\",\n",
    "    \"Domestic Currency per Euro\",\n",
    "    \"Domestic Currency per SDR\",\n",
    "    \"Domestic Currency per U.S. Dollar\",\n",
    "    \"Monetary\",\n",
    "    \"Monetary Aggregates\",\n",
    "    \"Monetary Authorities\",\n",
    "    \"Monetary Authorities/Central Bank\",\n",
    "    \"Monetary Base\",\n",
    "    \"Monetary Base (Euro Area-Wide-Residency)\",\n",
    "    \"Monetary Gold and SDRs\",\n",
    "    \"Monetary Survey\",\n",
    "    \"US Dollars\",\n",
    "    \"US Dollar per Domestic Currency\",\n",
    "    \"US Dollar per SDR\",\n",
    "    \"US Dollar\",\n",
    "    \"US Dollars (Gold at Market Price)\",\n",
    "    \"US Dollars (gold at 35 SDRs per ounce)\",\n",
    "    \"US Dollars per ounce of gold\",\n",
    "    \"SDR per Domestic Currency\",\n",
    "    \"SDR per US Dollar\",\n",
    "    \"SDRs (gold at 35 SDRs per ounce)\",\n",
    "    \"SDRs per ounce of Gold\",\n",
    "    \"Exchange Rates\",\n",
    "    \"American Exchange\",\n",
    "    \"Foreign Exchange\",\n",
    "    \"Poland Warsaw Stock Exchange WIG-20\",\n",
    "    \"Nominal Effective Exchange Rate\",\n",
    "    \"Real Effective Exchange Rate based on Consumer Price Index\",\n",
    "    \"Real Effective Exchange Rate based on Unit Labor Costs\",\n",
    "    \"Russia RTS Exchange\",\n",
    "    \"Official Reserve Assets\",\n",
    "    \"Other Reserve Assets\",\n",
    "    \"Reserve Assets\",\n",
    "    \"International Reserves\",\n",
    "    \"Total International Reserves\"\n",
    "]\n"
   ]
  },
  {
   "cell_type": "code",
   "execution_count": 7,
   "metadata": {},
   "outputs": [],
   "source": [
    "# 3. Document Decision-Making Strategies:\n",
    "decision_strategies = {\n",
    "    'Stable Currency Policy': [\n",
    "        \"Domestic Currency\",\n",
    "        \"US Dollar per Domestic Currency\",\n",
    "        \"SDR per Domestic Currency\",\n",
    "        \"Exchange Rates\",\n",
    "        \"Nominal Effective Exchange Rate\",\n",
    "        \"Real Effective Exchange Rate based on Consumer Price Index\",\n",
    "        \"Real Effective Exchange Rate based on Unit Labor Costs\"\n",
    "    ],\n",
    "    'Foreign Exchange Reserves Management': [\n",
    "        \"Foreign Exchange\",\n",
    "        \"US Dollar per SDR\",\n",
    "        \"SDR per US Dollar\",\n",
    "        \"Official Reserve Assets\",\n",
    "        \"Other Reserve Assets\",\n",
    "        \"Reserve Assets\",\n",
    "        \"International Reserves\",\n",
    "        \"Total International Reserves\"\n",
    "    ],\n",
    "    'Gold Standard Approach': [\n",
    "        \"Monetary Gold and SDRs\",\n",
    "        \"US Dollars (Gold at Market Price)\",\n",
    "        \"US Dollars (gold at 35 SDRs per ounce)\",\n",
    "        \"US Dollars per ounce of gold\",\n",
    "        \"SDRs (gold at 35 SDRs per ounce)\",\n",
    "        \"SDRs per ounce of Gold\"\n",
    "    ],\n",
    "    'Exchange Rate Stability': [\n",
    "        \"Domestic Currency per ECU\",\n",
    "        \"Domestic Currency per Euro\",\n",
    "        \"Domestic Currency per SDR\",\n",
    "        \"Domestic Currency per U.S. Dollar\",\n",
    "        \"US Dollar\",\n",
    "        \"US Dollars\",\n",
    "        \"Poland Warsaw Stock Exchange WIG-20\",\n",
    "        \"Russia RTS Exchange\",\n",
    "        \"American Exchange\"\n",
    "    ],\n",
    "    'Monetary Policy': [\n",
    "        \"Monetary\",\n",
    "        \"Monetary Aggregates\",\n",
    "        \"Monetary Authorities/Central Bank\",\n",
    "        \"Monetary Authorities\",\n",
    "        \"Monetary Base\",\n",
    "        \"Monetary Base (Euro Area-Wide-Residency)\",\n",
    "        \"Monetary Survey\"\n",
    "    ]\n",
    "}\n",
    "\n"
   ]
  },
  {
   "cell_type": "code",
   "execution_count": 8,
   "metadata": {},
   "outputs": [],
   "source": [
    "# Check for having all top indicators contributed in the strategies\n",
    "l = []\n",
    "for i in decision_strategies.items():\n",
    "    l.extend(i[1])\n",
    "\n",
    "for j in top_indicators:\n",
    "    if j not in l:\n",
    "        print(j)"
   ]
  },
  {
   "cell_type": "code",
   "execution_count": null,
   "metadata": {},
   "outputs": [],
   "source": []
  },
  {
   "cell_type": "code",
   "execution_count": null,
   "metadata": {},
   "outputs": [],
   "source": [
    "strategy_df = pd.DataFrame(index=countries, columns=decision_strategies.keys())\n",
    "\n",
    "# Populate the DataFrame with selected indicators for each strategy\n",
    "for strategy, indicators in decision_strategies.items():\n",
    "    for country in countries:\n",
    "        selected_values = selected_data[(selected_data['country'] == country) & (selected_data['indicator'].isin(indicators))]\n",
    "        latest_values = selected_values.groupby('indicator')['value'].last()\n",
    "        strategy_df.at[country, strategy] = latest_values.values"
   ]
  }
 ],
 "metadata": {
  "kernelspec": {
   "display_name": "Python 3",
   "language": "python",
   "name": "python3"
  },
  "language_info": {
   "codemirror_mode": {
    "name": "ipython",
    "version": 3
   },
   "file_extension": ".py",
   "mimetype": "text/x-python",
   "name": "python",
   "nbconvert_exporter": "python",
   "pygments_lexer": "ipython3",
   "version": "3.12.1"
  }
 },
 "nbformat": 4,
 "nbformat_minor": 2
}
